{
 "cells": [
  {
   "cell_type": "markdown",
   "metadata": {},
   "source": [
    "# Module 12 Challenge\n",
    "## Deliverable 1: Scrape Titles and Preview Text from Mars News"
   ]
  },
  {
   "cell_type": "code",
   "execution_count": 1,
   "metadata": {},
   "outputs": [],
   "source": [
    "# Import Splinter and BeautifulSoup\n",
    "from splinter import Browser\n",
    "from bs4 import BeautifulSoup as soup\n",
    "from webdriver_manager.chrome import ChromeDriverManager"
   ]
  },
  {
   "cell_type": "code",
   "execution_count": 2,
   "metadata": {
    "scrolled": true
   },
   "outputs": [
    {
     "name": "stderr",
     "output_type": "stream",
     "text": [
      "[WDM] - Downloading: 100%|████████████████████████████████████████████████████████| 6.58M/6.58M [00:01<00:00, 6.69MB/s]\n"
     ]
    }
   ],
   "source": [
    "executable_path = {'executable_path': ChromeDriverManager().install()}\n",
    "browser = Browser('chrome', **executable_path, headless=False)"
   ]
  },
  {
   "cell_type": "markdown",
   "metadata": {},
   "source": [
    "### Step 1: Visit the Website\n",
    "\n",
    "1. Use automated browsing to visit the [Mars NASA news site](https://redplanetscience.com). Inspect the page to identify which elements to scrape.\n",
    "\n",
    "      > **Hint** To identify which elements to scrape, you might want to inspect the page by using Chrome DevTools."
   ]
  },
  {
   "cell_type": "code",
   "execution_count": 51,
   "metadata": {},
   "outputs": [],
   "source": [
    "# Visit the Mars NASA news site: https://redplanetscience.com\n",
    "url = 'https://redplanetscience.com'\n",
    "browser.visit(url)"
   ]
  },
  {
   "cell_type": "markdown",
   "metadata": {},
   "source": [
    "### Step 2: Scrape the Website\n",
    "\n",
    "Create a Beautiful Soup object and use it to extract text elements from the website."
   ]
  },
  {
   "cell_type": "code",
   "execution_count": 25,
   "metadata": {},
   "outputs": [],
   "source": [
    "# Create a Beautiful Soup object\n",
    "html = browser.html\n",
    "html_soup = soup(html, 'html.parser')"
   ]
  },
  {
   "cell_type": "code",
   "execution_count": 64,
   "metadata": {},
   "outputs": [
    {
     "name": "stdout",
     "output_type": "stream",
     "text": [
      "[<div class=\"list_text\">\n",
      "<div class=\"list_date\">January 14, 2023</div>\n",
      "<div class=\"content_title\">NASA's Mars Rover Drivers Need Your Help</div>\n",
      "<div class=\"article_teaser_body\">Using an online tool to label Martian terrain types, you can train an artificial intelligence algorithm that could improve the way engineers guide the Curiosity rover.</div>\n",
      "</div>, <div class=\"list_text\">\n",
      "<div class=\"list_date\">January 13, 2023</div>\n",
      "<div class=\"content_title\">NASA Establishes Board to Initially Review Mars Sample Return Plans</div>\n",
      "<div class=\"article_teaser_body\">The board will assist with analysis of current plans and goals for one of the most difficult missions humanity has ever undertaken.</div>\n",
      "</div>, <div class=\"list_text\">\n",
      "<div class=\"list_date\">January 13, 2023</div>\n",
      "<div class=\"content_title\">The Launch Is Approaching for NASA's Next Mars Rover, Perseverance</div>\n",
      "<div class=\"article_teaser_body\">The Red Planet's surface has been visited by eight NASA spacecraft. The ninth will be the first that includes a roundtrip ticket in its flight plan. </div>\n",
      "</div>, <div class=\"list_text\">\n",
      "<div class=\"list_date\">January 13, 2023</div>\n",
      "<div class=\"content_title\">NASA Invites Students to Name Mars 2020 Rover</div>\n",
      "<div class=\"article_teaser_body\">Through Nov. 1, K-12 students in the U.S. are encouraged to enter an essay contest to name NASA's next Mars rover.</div>\n",
      "</div>, <div class=\"list_text\">\n",
      "<div class=\"list_date\">January 10, 2023</div>\n",
      "<div class=\"content_title\">NASA's Perseverance Rover Will Peer Beneath Mars' Surface </div>\n",
      "<div class=\"article_teaser_body\">The agency's newest rover will use the first ground-penetrating radar instrument on the Martian surface to help search for signs of past microbial life. </div>\n",
      "</div>, <div class=\"list_text\">\n",
      "<div class=\"list_date\">December 28, 2022</div>\n",
      "<div class=\"content_title\">NASA's Perseverance Rover Will Look at Mars Through These 'Eyes'</div>\n",
      "<div class=\"article_teaser_body\">A pair of zoomable cameras will help scientists and rover drivers with high-resolution color images.</div>\n",
      "</div>, <div class=\"list_text\">\n",
      "<div class=\"list_date\">December 25, 2022</div>\n",
      "<div class=\"content_title\">Alabama High School Student Names NASA's Mars Helicopter</div>\n",
      "<div class=\"article_teaser_body\">Vaneeza Rupani's essay was chosen as the name for the small spacecraft, which will mark NASA's first attempt at powered flight on another planet.</div>\n",
      "</div>, <div class=\"list_text\">\n",
      "<div class=\"list_date\">December 25, 2022</div>\n",
      "<div class=\"content_title\">My Culture, My Voice</div>\n",
      "<div class=\"article_teaser_body\">In honor of Hispanic Heritage Month, Christina Hernandez, an instrument engineer on the Mars 2020 mission, talks about her childhood and journey to NASA.</div>\n",
      "</div>, <div class=\"list_text\">\n",
      "<div class=\"list_date\">December 23, 2022</div>\n",
      "<div class=\"content_title\">NASA's Mars Helicopter Attached to Mars 2020 Rover </div>\n",
      "<div class=\"article_teaser_body\">The helicopter will be first aircraft to perform flight tests on another planet.</div>\n",
      "</div>, <div class=\"list_text\">\n",
      "<div class=\"list_date\">December 21, 2022</div>\n",
      "<div class=\"content_title\">Mars Is Getting a New Robotic Meteorologist</div>\n",
      "<div class=\"article_teaser_body\">Sensors on NASA's Perseverance will help prepare for future human exploration by taking weather measurements and studying dust particles.</div>\n",
      "</div>, <div class=\"list_text\">\n",
      "<div class=\"list_date\">December 19, 2022</div>\n",
      "<div class=\"content_title\">Join NASA for the Launch of the Mars 2020 Perseverance Rover</div>\n",
      "<div class=\"article_teaser_body\">No matter where you live, choose from a menu of activities to join NASA as we \"Countdown to Mars\" and launch the Perseverance rover to the Red Planet.</div>\n",
      "</div>, <div class=\"list_text\">\n",
      "<div class=\"list_date\">December 18, 2022</div>\n",
      "<div class=\"content_title\">Space History Is Made in This NASA Robot Factory</div>\n",
      "<div class=\"article_teaser_body\">From rockets to rovers, JPL's Spacecraft Assembly Facility has been at the center of robotic spaceflight. Here's a closer look at what makes it so special.</div>\n",
      "</div>, <div class=\"list_text\">\n",
      "<div class=\"list_date\">December 16, 2022</div>\n",
      "<div class=\"content_title\">NASA Prepares for Moon and Mars With New Addition to Its Deep Space Network</div>\n",
      "<div class=\"article_teaser_body\">Robotic spacecraft will be able to communicate with the dish using radio waves and lasers.</div>\n",
      "</div>, <div class=\"list_text\">\n",
      "<div class=\"list_date\">December 16, 2022</div>\n",
      "<div class=\"content_title\">Mars Scientists Investigate Ancient Life in Australia</div>\n",
      "<div class=\"article_teaser_body\">Teams with NASA's Mars 2020 and ESA's ExoMars practiced hunting for fossilized microbial life in the Australian Outback in preparation for their Red Planet missions. </div>\n",
      "</div>, <div class=\"list_text\">\n",
      "<div class=\"list_date\">December 15, 2022</div>\n",
      "<div class=\"content_title\">NASA's Curiosity Mars Rover Takes a New Selfie Before Record Climb</div>\n",
      "<div class=\"article_teaser_body\">Along with capturing an image before its steepest ascent ever, the robotic explorer filmed its \"selfie stick,\" or robotic arm, in action.</div>\n",
      "</div>]\n"
     ]
    }
   ],
   "source": [
    "# Extract all the text elements\n",
    "slide_elem = html_soup.select_one('div', id='news')\n",
    "articles = slide_elem.find_all('div', class_='list_text')"
   ]
  },
  {
   "cell_type": "markdown",
   "metadata": {},
   "source": [
    "### Step 3: Store the Results\n",
    "\n",
    "Extract the titles and preview text of the news articles that you scraped. Store the scraping results in Python data structures as follows:\n",
    "\n",
    "* Store each title-and-preview pair in a Python dictionary. And, give each dictionary two keys: `title` and `preview`. An example is the following:\n",
    "\n",
    "  ```python\n",
    "  {'title': \"Mars Rover Begins Mission!\", \n",
    "        'preview': \"NASA's Mars Rover begins a multiyear mission to collect data about the little-explored planet.\"}\n",
    "  ```\n",
    "\n",
    "* Store all the dictionaries in a Python list.\n",
    "\n",
    "* Print the list in your notebook."
   ]
  },
  {
   "cell_type": "code",
   "execution_count": 76,
   "metadata": {},
   "outputs": [],
   "source": [
    "# Create an empty list to store the dictionaries\n",
    "mars_news_list = []"
   ]
  },
  {
   "cell_type": "code",
   "execution_count": 77,
   "metadata": {},
   "outputs": [],
   "source": [
    "# Loop through the text elements\n",
    "# Extract the title and preview text from the elements\n",
    "# Store each title and preview pair in a dictionary\n",
    "# Add the dictionary to the list\n",
    "for article in articles:\n",
    "    title = article.find('div', class_='content_title').text\n",
    "    preview = article.find('div', class_='article_teaser_body').text\n",
    "    mars_info = {\"title\":title, 'preview':preview}\n",
    "    mars_news_list.append(mars_info)"
   ]
  },
  {
   "cell_type": "code",
   "execution_count": 78,
   "metadata": {},
   "outputs": [
    {
     "data": {
      "text/plain": [
       "[{'title': \"NASA's Mars Rover Drivers Need Your Help\",\n",
       "  'preview': 'Using an online tool to label Martian terrain types, you can train an artificial intelligence algorithm that could improve the way engineers guide the Curiosity rover.'},\n",
       " {'title': 'NASA Establishes Board to Initially Review Mars Sample Return Plans',\n",
       "  'preview': 'The board will assist with analysis of current plans and goals for one of the most difficult missions humanity has ever undertaken.'},\n",
       " {'title': \"The Launch Is Approaching for NASA's Next Mars Rover, Perseverance\",\n",
       "  'preview': \"The Red Planet's surface has been visited by eight NASA spacecraft. The ninth will be the first that includes a roundtrip ticket in its flight plan. \"},\n",
       " {'title': 'NASA Invites Students to Name Mars 2020 Rover',\n",
       "  'preview': \"Through Nov. 1, K-12 students in the U.S. are encouraged to enter an essay contest to name NASA's next Mars rover.\"},\n",
       " {'title': \"NASA's Perseverance Rover Will Peer Beneath Mars' Surface \",\n",
       "  'preview': \"The agency's newest rover will use the first ground-penetrating radar instrument on the Martian surface to help search for signs of past microbial life. \"},\n",
       " {'title': \"NASA's Perseverance Rover Will Look at Mars Through These 'Eyes'\",\n",
       "  'preview': 'A pair of zoomable cameras will help scientists and rover drivers with high-resolution color images.'},\n",
       " {'title': \"Alabama High School Student Names NASA's Mars Helicopter\",\n",
       "  'preview': \"Vaneeza Rupani's essay was chosen as the name for the small spacecraft, which will mark NASA's first attempt at powered flight on another planet.\"},\n",
       " {'title': 'My Culture, My Voice',\n",
       "  'preview': 'In honor of Hispanic Heritage Month, Christina Hernandez, an instrument engineer on the Mars 2020 mission, talks about her childhood and journey to NASA.'},\n",
       " {'title': \"NASA's Mars Helicopter Attached to Mars 2020 Rover \",\n",
       "  'preview': 'The helicopter will be first aircraft to perform flight tests on another planet.'},\n",
       " {'title': 'Mars Is Getting a New Robotic Meteorologist',\n",
       "  'preview': \"Sensors on NASA's Perseverance will help prepare for future human exploration by taking weather measurements and studying dust particles.\"},\n",
       " {'title': 'Join NASA for the Launch of the Mars 2020 Perseverance Rover',\n",
       "  'preview': 'No matter where you live, choose from a menu of activities to join NASA as we \"Countdown to Mars\" and launch the Perseverance rover to the Red Planet.'},\n",
       " {'title': 'Space History Is Made in This NASA Robot Factory',\n",
       "  'preview': \"From rockets to rovers, JPL's Spacecraft Assembly Facility has been at the center of robotic spaceflight. Here's a closer look at what makes it so special.\"},\n",
       " {'title': 'NASA Prepares for Moon and Mars With New Addition to Its Deep Space Network',\n",
       "  'preview': 'Robotic spacecraft will be able to communicate with the dish using radio waves and lasers.'},\n",
       " {'title': 'Mars Scientists Investigate Ancient Life in Australia',\n",
       "  'preview': \"Teams with NASA's Mars 2020 and ESA's ExoMars practiced hunting for fossilized microbial life in the Australian Outback in preparation for their Red Planet missions. \"},\n",
       " {'title': \"NASA's Curiosity Mars Rover Takes a New Selfie Before Record Climb\",\n",
       "  'preview': 'Along with capturing an image before its steepest ascent ever, the robotic explorer filmed its \"selfie stick,\" or robotic arm, in action.'}]"
      ]
     },
     "execution_count": 78,
     "metadata": {},
     "output_type": "execute_result"
    }
   ],
   "source": [
    "# Print the list to confirm success\n",
    "mars_news_list"
   ]
  },
  {
   "cell_type": "code",
   "execution_count": 79,
   "metadata": {},
   "outputs": [],
   "source": [
    "browser.quit()"
   ]
  },
  {
   "cell_type": "markdown",
   "metadata": {},
   "source": [
    "### (Optional) Step 4: Export the Data\n",
    "\n",
    "Optionally, store the scraped data in a file or database (to ease sharing the data with others). To do so, export the scraped data to either a JSON file or a MongoDB database."
   ]
  },
  {
   "cell_type": "code",
   "execution_count": 10,
   "metadata": {},
   "outputs": [],
   "source": [
    "# Export data to JSON\n"
   ]
  },
  {
   "cell_type": "code",
   "execution_count": null,
   "metadata": {},
   "outputs": [],
   "source": [
    "# Export data to MongoDB\n"
   ]
  }
 ],
 "metadata": {
  "kernelspec": {
   "display_name": "Python 3 (ipykernel)",
   "language": "python",
   "name": "python3"
  },
  "language_info": {
   "codemirror_mode": {
    "name": "ipython",
    "version": 3
   },
   "file_extension": ".py",
   "mimetype": "text/x-python",
   "name": "python",
   "nbconvert_exporter": "python",
   "pygments_lexer": "ipython3",
   "version": "3.7.13"
  }
 },
 "nbformat": 4,
 "nbformat_minor": 4
}
